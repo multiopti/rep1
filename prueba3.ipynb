{
 "cells": [
  {
   "cell_type": "code",
   "execution_count": 6,
   "metadata": {
    "collapsed": false
   },
   "outputs": [
    {
     "data": {
      "text/html": [
       "<div style='margin-top:8px'><img src='data:image/png;base64,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' width='30px' height='35px' style='display: inline-block; padding-right: 10px'></img><span>Lightning initialized</span></div>"
      ],
      "text/plain": [
       "<IPython.core.display.HTML object>"
      ]
     },
     "metadata": {},
     "output_type": "display_data"
    },
    {
     "name": "stdout",
     "output_type": "stream",
     "text": [
      "Connected to server at http://public.lightning-viz.org\n"
     ]
    },
    {
     "data": {
      "application/javascript": [
       "(function e(t,n,r){function s(o,u){if(!n[o]){if(!t[o]){var a=typeof require==\"function\"&&require;if(!u&&a)return a(o,!0);if(i)return i(o,!0);throw new Error(\"Cannot find module '\"+o+\"'\")}var f=n[o]={exports:{}};t[o][0].call(f.exports,function(e){var n=t[o][1][e];return s(n?n:e)},f,f.exports,e,t,n,r)}return n[o].exports}var i=typeof require==\"function\"&&require;for(var o=0;o<r.length;o++)s(r[o]);return s})({1:[function(require,module,exports){\n",
       "window.lightning = window.lightning || {};\n",
       "var lightningCommMap = {};\n",
       "var IPython = window.IPython;\n",
       "\n",
       "var readCommData = function(commData, field) {\n",
       "    try {\n",
       "        return commData.content.data[field];\n",
       "    } catch (err) {\n",
       "        return;\n",
       "    }\n",
       "};\n",
       "\n",
       "\n",
       "var init_comm = function() {\n",
       "    IPython.notebook.kernel.comm_manager.register_target('lightning', function(comm, data) {\n",
       "        var id = readCommData(data, 'id');\n",
       "        lightningCommMap[id] = comm;\n",
       "    });\n",
       "\n",
       "    window.lightning.comm_map = lightningCommMap;\n",
       "}\n",
       "\n",
       "\n",
       "if(IPython && IPython.notebook) {\n",
       "\n",
       "    if(IPython.notebook.kernel) {\n",
       "        init_comm();\n",
       "    }\n",
       "\n",
       "    IPython.notebook.events.on('kernel_connected.Kernel', init_comm);\n",
       "\n",
       "}\n",
       "\n",
       "\n",
       "},{}]},{},[1])\n",
       "//# sourceMappingURL=data:application/json;base64,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\n"
      ],
      "text/plain": [
       "<IPython.core.display.Javascript object>"
      ]
     },
     "metadata": {},
     "output_type": "display_data"
    },
    {
     "data": {
      "text/html": [
       "<meta name=\"viewport\" content=\"width=device-width, initial-scale=1, maximum-scale=1\"/><meta http-equiv=\"X-UA-Compatible\" content=\"IE=10; IE=9; IE=8; IE=7; IE=EDGE\"/><meta charset=\"UTF-8\"/><link href=\"//fonts.googleapis.com/css?family=Open+Sans:400,700\" rel=\"stylesheet\" type=\"text/css\"/><link rel=\"stylesheet\" href=\"http://public.lightning-viz.org/css/app.css\"/><div id=\"lightning-body\" class=\"container content wrap push\"><div class=\"feed-container\"><div data-model=\"visualization\" data-model-id=\"e4cfa12e-ff82-4729-9918-8c7139ac553d\" class=\"feed-item-container\"><div data-type=\"lightning-line\" data-data=\"{&quot;series&quot;:[0,-1.643609007860471,-3.766660783834284,-4.391247340925784,-4.71438719831548,-4.723609244894028,-4.289209167883868,-4.389715044934139,-3.895047193164832,-4.241099863646357,-4.908643795919599,-5.414015817617843,-3.90197227006722,-3.485600339850022,-2.6884519228450046,-1.9816231008885055,0.18063538311419247,1.0298837899139814,1.3681579289978825,1.9258071864822852,4.342623645010434,2.1393732501076013,-0.6714949910395733,-2.0463701388254085,-2.9345065777829062,-4.674405339949786,-4.346450991901951,-5.393240813703395,-5.196809065053758,-5.705202851698582,-5.431492342927592,-5.008467830833683,-5.193499448930101,-3.9814063169537164,-3.3817933266581957,-2.2861152054347045,-0.07810632710224641,0.7347292514710142,2.204758873040044,2.757725043668452,4.150429107150107,2.649234570080985,-0.22473095908044538,-2.011217518566806,-2.5548930119594333,-3.5703932216524974,-3.852184308973805,-4.3254010137148375,-4.493293189697484,-4.536268250563591,0,0.648600431475105,0.9888808395490917,1.1767506652833781,2.1750295420631947,2.7630072870366558,3.603051391306126,5.247516216553312,6.357494846529266,7.728815262498942,9.840650927283164,5.311993086149293,1.6592618857738426,-0.25835077506810555,-3.2686369227950642,-5.35171524219642,-5.704557454254418,-6.036243208712675,-5.350906378686881,-5.773640683530564,-4.62709342299124,-4.3942181763641734,-3.5894862801402807,-1.904471463511099,0.14568645970264815,2.2915784149923515,3.324657779516909,5.717345544052898,7.100653846153816,7.87700169081767,10.764510764138489,6.077244650101422,2.543193265065836,0.6328539511952604,-1.017786051390117,-3.2808767822612595,-4.948707877800141,-5.959490812823152,-7.146272851230544,-7.498277582494309,-6.6694508950130125,-6.4464241554239,-5.590056846484945,-5.195177304490434,-3.9248804843362324,-1.5311558484822463,-0.44802555581764913,1.810996177034508,4.5202891678616774,5.488803950682597],&quot;index&quot;:[0,10,20,30,40,50,60,70,80,90,100,110,120,130,140,150,160,170,180,190,200,210,220,230,240,250,260,270,280,290,300,310,320,330,340,350,360,370,380,390,400,410,420,430,440,450,460,470,480,490,500,510,520,530,540,550,560,570,580,590,600,610,620,630,640,650,660,670,680,690,700,710,720,730,740,750,760,770,780,790,800,810,820,830,840,850,860,870,880,890,900,910,920,930,940,950,960,970,980,990]}\" data-images=\"null\" data-options=\"{&quot;zoom&quot;:true,&quot;height&quot;:null,&quot;description&quot;:null,&quot;width&quot;:600}\" id=\"viz-e4cfa12e-ff82-4729-9918-8c7139ac553d\" data-initialized=\"false\" class=\"feed-item\"></div></div></div></div><script>window.lightning = window.lightning || {};\n",
       "window.lightning.host = \"http://public.lightning-viz.org/\" || 'http://127.0.0.1:3000/';\n",
       "window.lightning.vizCount = (window.lightning.vizCount + 1) || 1;\n",
       "window.lightning.requiredVizTypes = window.lightning.requiredVizTypes || [];\n",
       "if(window.lightning.requiredVizTypes.indexOf(\"line\") === -1) {\n",
       "    window.lightning.requiredVizTypes.push(\"line\");\n",
       "}\n",
       "window._require = window.require;\n",
       "window.require = undefined;\n",
       "window._define = window.define;\n",
       "window.define = undefined;</script><script src=\"http://public.lightning-viz.org/js/embed.js\"></script>"
      ],
      "text/plain": [
       "<lightning.types.plots.Line at 0x3b293f0>"
      ]
     },
     "execution_count": 6,
     "metadata": {},
     "output_type": "execute_result"
    }
   ],
   "source": [
    "from lightning import Lightning\n",
    "#lgn = Lightning(host='http://public.lightning-viz.org')\n",
    "lgn = Lightning(ipython=True, host='http://public.lightning-viz.org')\n",
    "from numpy import random\n",
    "from scipy import signal\n",
    "#viz.open()\n",
    "import numpy as np\n",
    "\n",
    "final_p = 1000\n",
    "sampling_t = 10\n",
    "\n",
    "t = np.arange(0.0, final_p, sampling_t)\n",
    "u = signal.sawtooth(2 * np.pi * 0.005 * t)\n",
    "y = np.zeros(len(t))\n",
    "\n",
    "for i in range(1,int(len(t)/2)):\n",
    "    y[i] = 0.9*y[i-1] + 2*u[i-1] + random.uniform(-1,1)\n",
    "\n",
    "for i in range(int(1+len(t)/2),len(t)):\n",
    "    y[i] = 0.9*y[i-1] + 3*u[i-1] + random.uniform(-1,1)\n",
    "\n",
    "lgn.line(y,t)\n"
   ]
  },
  {
   "cell_type": "code",
   "execution_count": null,
   "metadata": {
    "collapsed": true
   },
   "outputs": [],
   "source": []
  }
 ],
 "metadata": {
  "kernelspec": {
   "display_name": "Python 3",
   "language": "python",
   "name": "python3"
  },
  "language_info": {
   "codemirror_mode": {
    "name": "ipython",
    "version": 3
   },
   "file_extension": ".py",
   "mimetype": "text/x-python",
   "name": "python",
   "nbconvert_exporter": "python",
   "pygments_lexer": "ipython3",
   "version": "3.5.2"
  }
 },
 "nbformat": 4,
 "nbformat_minor": 1
}
