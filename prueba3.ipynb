{
 "cells": [
  {
   "cell_type": "code",
   "execution_count": 2,
   "metadata": {
    "collapsed": false
   },
   "outputs": [
    {
     "name": "stdout",
     "output_type": "stream",
     "text": [
      "Lightning initialized\n",
      "Connected to server at http://public.lightning-viz.org\n"
     ]
    }
   ],
   "source": [
    "from lightning import Lightning\n",
    "lgn = Lightning(host='http://public.lightning-viz.org')\n",
    "viz = lgn.line([1, 1, 2, 3, 5, 8])\n",
    "#viz.open()"
   ]
  }
 ],
 "metadata": {
  "kernelspec": {
   "display_name": "Python 3",
   "language": "python",
   "name": "python3"
  }
 },
 "nbformat": 4,
 "nbformat_minor": 1
}
