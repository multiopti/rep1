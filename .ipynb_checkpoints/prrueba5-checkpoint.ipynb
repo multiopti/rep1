{
 "cells": [
  {
   "cell_type": "code",
   "execution_count": 2,
   "metadata": {
    "collapsed": true
   },
   "outputs": [],
   "source": [
    "from __future__ import print_function\n",
    "from ipywidgets import interact, interactive, fixed\n",
    "import ipywidgets as widgets"
   ]
  },
  {
   "cell_type": "code",
   "execution_count": 3,
   "metadata": {
    "collapsed": true
   },
   "outputs": [],
   "source": [
    "def f(x):\n",
    "    return x"
   ]
  },
  {
   "cell_type": "code",
   "execution_count": 5,
   "metadata": {
    "collapsed": false
   },
   "outputs": [
    {
     "data": {
      "text/plain": [
       "4"
      ]
     },
     "metadata": {},
     "output_type": "display_data"
    }
   ],
   "source": [
    "interact(f, x=10);"
   ]
  },
  {
   "cell_type": "code",
   "execution_count": 6,
   "metadata": {
    "collapsed": false
   },
   "outputs": [
    {
     "data": {
      "text/plain": [
       "False"
      ]
     },
     "metadata": {},
     "output_type": "display_data"
    }
   ],
   "source": [
    "interact(f, x=True)"
   ]
  },
  {
   "cell_type": "code",
   "execution_count": 7,
   "metadata": {
    "collapsed": false
   },
   "outputs": [
    {
     "data": {
      "text/plain": [
       "'esto es lo que se regresa'"
      ]
     },
     "metadata": {},
     "output_type": "display_data"
    }
   ],
   "source": [
    "interact(f, x='Introduzca el número de ...');"
   ]
  },
  {
   "cell_type": "code",
   "execution_count": 8,
   "metadata": {
    "collapsed": true
   },
   "outputs": [],
   "source": [
    "SHOW = True # Show test in GUI-based test launcher\n",
    "\n",
    "from guidata.dataset.datatypes import ActivableDataSet\n",
    "from guidata.dataset.dataitems import BoolItem, FloatItem, ChoiceItem, ColorItem\n",
    "\n",
    "\n",
    "class ExampleDataSet(ActivableDataSet):\n",
    "    \"\"\"\n",
    "    Example\n",
    "    <b>Activable dataset example</b>\n",
    "    \"\"\"\n",
    "    enable = BoolItem(\"Enable parameter set\",\n",
    "                      help=\"If disabled, the following parameters will be ignored\",\n",
    "                      default=False)\n",
    "    param0 = ChoiceItem(\"Param 0\", ['choice #1', 'choice #2', 'choice #3'])\n",
    "    param1 = FloatItem(\"Param 1\", default=0, min=0)\n",
    "    param2 = FloatItem(\"Param 2\", default=.93)\n",
    "    color = ColorItem(\"Color\", default=\"red\")\n",
    "\n",
    "ExampleDataSet.active_setup()\n",
    "\n",
    "\n",
    "if __name__ == '__main__':\n",
    "    # Create QApplication\n",
    "    import guidata\n",
    "    _app = guidata.qapplication()\n",
    "    \n",
    "    # Editing mode:\n",
    "    prm = ExampleDataSet()\n",
    "    prm.set_writeable()\n",
    "    prm.edit()\n",
    "    \n",
    "    # Showing mode:\n",
    "    prm.set_readonly()\n",
    "    prm.view()\n"
   ]
  },
  {
   "cell_type": "code",
   "execution_count": null,
   "metadata": {
    "collapsed": true
   },
   "outputs": [],
   "source": []
  }
 ],
 "metadata": {
  "kernelspec": {
   "display_name": "Python 3",
   "language": "python",
   "name": "python3"
  },
  "language_info": {
   "codemirror_mode": {
    "name": "ipython",
    "version": 3
   },
   "file_extension": ".py",
   "mimetype": "text/x-python",
   "name": "python",
   "nbconvert_exporter": "python",
   "pygments_lexer": "ipython3",
   "version": "3.5.2"
  },
  "widgets": {
   "state": {
    "288232280ba94f55ad3d06245c8085de": {
     "views": [
      {
       "cell_index": 4
      }
     ]
    },
    "3ab783d9808440febe7054e4aa6f4714": {
     "views": [
      {
       "cell_index": 2
      }
     ]
    },
    "84be60e7e55e400988ffc6ccbb561791": {
     "views": [
      {
       "cell_index": 3
      }
     ]
    }
   },
   "version": "1.2.0"
  }
 },
 "nbformat": 4,
 "nbformat_minor": 1
}
