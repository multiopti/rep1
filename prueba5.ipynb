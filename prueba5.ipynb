{
 "cells": [
  {
   "cell_type": "code",
   "execution_count": null,
   "metadata": {
    "collapsed": false
   },
   "outputs": [],
   "source": [
    "from __future__ import print_function\n",
    "from ipywidgets import interact, interactive, fixed\n",
    "import ipywidgets as widgets\n",
    "from lightning import Lightning\n",
    "#lgn = Lightning(host='http://public.lightning-viz.org')\n",
    "lgn = Lightning(ipython=True, host='http://public.lightning-viz.org')"
   ]
  },
  {
   "cell_type": "code",
   "execution_count": null,
   "metadata": {
    "collapsed": true
   },
   "outputs": [],
   "source": [
    "def f(x):\n",
    "    return x"
   ]
  },
  {
   "cell_type": "code",
   "execution_count": null,
   "metadata": {
    "collapsed": false
   },
   "outputs": [],
   "source": [
    "interact(f, x=10);"
   ]
  },
  {
   "cell_type": "code",
   "execution_count": null,
   "metadata": {
    "collapsed": false
   },
   "outputs": [],
   "source": [
    "interact(f, x=True)"
   ]
  },
  {
   "cell_type": "code",
   "execution_count": null,
   "metadata": {
    "collapsed": false
   },
   "outputs": [],
   "source": [
    "interact(f, x='Introduzca el número de ...');"
   ]
  },
  {
   "cell_type": "code",
   "execution_count": null,
   "metadata": {
    "collapsed": true
   },
   "outputs": [],
   "source": [
    "SHOW = True # Show test in GUI-based test launcher\n",
    "\n",
    "from guidata.dataset.datatypes import ActivableDataSet\n",
    "from guidata.dataset.dataitems import BoolItem, FloatItem, ChoiceItem, ColorItem\n",
    "\n",
    "\n",
    "class ExampleDataSet(ActivableDataSet):\n",
    "    \"\"\"\n",
    "    Example\n",
    "    <b>Activable dataset example</b>\n",
    "    \"\"\"\n",
    "    enable = BoolItem(\"Enable parameter set\",\n",
    "                      help=\"If disabled, the following parameters will be ignored\",\n",
    "                      default=False)\n",
    "    param0 = ChoiceItem(\"Param 0\", ['choice #1', 'choice #2', 'choice #3'])\n",
    "    param1 = FloatItem(\"Param 1\", default=0, min=0)\n",
    "    param2 = FloatItem(\"Param 2\", default=.93)\n",
    "    color = ColorItem(\"Color\", default=\"red\")\n",
    "\n",
    "ExampleDataSet.active_setup()\n",
    "\n",
    "\n",
    "if __name__ == '__main__':\n",
    "    # Create QApplication\n",
    "    import guidata\n",
    "    _app = guidata.qapplication()\n",
    "    \n",
    "    # Editing mode:\n",
    "    prm = ExampleDataSet()\n",
    "    prm.set_writeable()\n",
    "    prm.edit()\n",
    "    \n",
    "    # Showing mode:\n",
    "    prm.set_readonly()\n",
    "    prm.view()\n"
   ]
  }
 ],
 "metadata": {
  "kernelspec": {
   "display_name": "Python 3",
   "language": "python",
   "name": "python3"
  },
  "language_info": {
   "codemirror_mode": {
    "name": "ipython",
    "version": 3
   },
   "file_extension": ".py",
   "mimetype": "text/x-python",
   "name": "python",
   "nbconvert_exporter": "python",
   "pygments_lexer": "ipython3",
   "version": "3.5.2"
  }
 },
 "nbformat": 4,
 "nbformat_minor": 1
}
